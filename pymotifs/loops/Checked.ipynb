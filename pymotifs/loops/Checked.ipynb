{
 "cells": [
  {
   "cell_type": "code",
   "execution_count": null,
   "metadata": {},
   "outputs": [],
   "source": [
    "\"\"\" Program to indicate whether loops have been checked or not. \"\"\"\n",
    "\n",
    "from pymotifs import core\n",
    "from pymotifs import models as mod \n",
    "\n",
    "from pymotifs.loops.extractor import Loader as InfoLoader\n",
    "from pymotifs.loops.positions import Loader as PositionLoader\n",
    "from pymotifs.loops.quality import Loader as QualityLoader\n",
    "\n",
    "\n",
    "class Loader(core.SimpleLoader):\n",
    "    \n",
    "    allow_no_data = True\n",
    "    \n",
    "    merge_data = True\n",
    "    \n",
    "    dependencies = set([InfoLoader, PositionLoader, QualityLoader])\n",
    "    \n",
    "    def table(self):\n",
    "        return mod.PdbInfo\n",
    "    \n",
    "    def list_of_checked(self, pdbs, **kwargs):\n",
    "        with self.session as session():\n",
    "            query = session.query(mod.PdbInfo.pdb_id).\\\n",
    "                filter(mod.PdbInfo.loops_checked == 0)\n",
    "            temp = [r.pdb_id for r in query]\n",
    "            \n",
    "        pdbs_checked = set(pdbs).intersection(temp)\n",
    "            \n",
    "        return pdbs_checked\n",
    "        \n",
    "    def data(self, pdbs, **kwargs):\n",
    "        \n",
    "        data = []\n",
    "        \n",
    "        for pdb in self.list_of_checked(pdbs):\n",
    "            data.append({'pdb_id': pdb,\n",
    "                        'loops_checked': 1\n",
    "                        })\n",
    "        return data"
   ]
  }
 ],
 "metadata": {
  "kernelspec": {
   "display_name": "Python 3",
   "language": "python",
   "name": "python3"
  },
  "language_info": {
   "codemirror_mode": {
    "name": "ipython",
    "version": 3
   },
   "file_extension": ".py",
   "mimetype": "text/x-python",
   "name": "python",
   "nbconvert_exporter": "python",
   "pygments_lexer": "ipython3",
   "version": "3.8.3"
  }
 },
 "nbformat": 4,
 "nbformat_minor": 4
}
